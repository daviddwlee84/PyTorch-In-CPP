{
 "cells": [
  {
   "cell_type": "markdown",
   "id": "c3d472b9-4fdd-4a35-83ae-c0c1d41ce404",
   "metadata": {},
   "source": [
    "# Equivalent Operation of Vector/Matrix Calculation\n",
    "\n",
    "- LibTorch\n",
    "- oneMKL\n",
    "- XTensor"
   ]
  },
  {
   "cell_type": "code",
   "execution_count": 1,
   "id": "3e26f980-c270-4eda-9673-9695e0bc437e",
   "metadata": {},
   "outputs": [],
   "source": [
    "#include <iostream>\n",
    "#include <vector>"
   ]
  },
  {
   "cell_type": "code",
   "execution_count": 2,
   "id": "5fb73c47-58af-41a6-ad17-b79cf5fb6237",
   "metadata": {},
   "outputs": [
    {
     "name": "stdout",
     "output_type": "stream",
     "text": [
      "/opt/conda/lib/python3.10/site-packages/torch/share/cmake\n"
     ]
    }
   ],
   "source": [
    "!python -c 'import torch;print(torch.utils.cmake_prefix_path)'"
   ]
  },
  {
   "cell_type": "code",
   "execution_count": 3,
   "id": "a598801d-d7d5-4484-8c6c-113f62103698",
   "metadata": {},
   "outputs": [],
   "source": [
    "// [cauachagas/cling-torch: Tutorial de como criar um ambiente de desenvolvimento para usar Jupyter com a API C++ do Pytorch.](https://github.com/cauachagas/cling-torch)\n",
    "#pragma cling add_include_path(\"/opt/conda/lib/python3.10/site-packages/torch/include\")\n",
    "#pragma cling add_include_path(\"/opt/conda/lib/python3.10/site-packages/torch/include/torch/csrc/api/include\")\n",
    "#pragma cling add_library_path(\"/opt/conda/lib/python3.10/site-packages/torch/lib\")\n",
    "#pragma cling load(\"libtorch\")"
   ]
  },
  {
   "cell_type": "code",
   "execution_count": 4,
   "id": "c2e6fa6b-b075-4a2f-8522-3aff20a68a97",
   "metadata": {},
   "outputs": [
    {
     "name": "stdout",
     "output_type": "stream",
     "text": [
      " 0.5997  0.7039  0.5234\n",
      " 0.9988  0.1635  0.3138\n",
      " 0.5716  0.2546  0.6526\n",
      "[ CPUFloatType{3,3} ]\n",
      " 0.5511\n",
      " 0.6072\n",
      " 0.1811\n",
      "[ CPUFloatType{3} ]\n",
      " 0.8527\n",
      " 0.7066\n",
      " 0.5878\n",
      "[ CPUFloatType{3} ]\n"
     ]
    }
   ],
   "source": [
    "#include <torch/torch.h>\n",
    "\n",
    "torch::Tensor libtorch_matrix = torch::rand({3, 3}, torch::kFloat32);\n",
    "torch::Tensor libtorch_vector = torch::rand({3}, torch::kFloat32);\n",
    "\n",
    "std::cout << libtorch_matrix << std::endl;\n",
    "std::cout << libtorch_vector << std::endl;\n",
    "\n",
    "std::cout << torch::matmul(libtorch_matrix, libtorch_vector) << std::endl;"
   ]
  },
  {
   "cell_type": "code",
   "execution_count": 5,
   "id": "e86cd161-92d5-4b75-b153-7b90b969d923",
   "metadata": {},
   "outputs": [],
   "source": [
    "void tensor_vector_to_std_vector(const torch::Tensor &tensor, std::vector<float> &vector)\n",
    "{\n",
    "    TORCH_CHECK(tensor.is_contiguous(), \"Tensor must be contiguous\");\n",
    "    int length = tensor.numel();\n",
    "    vector.resize(length);\n",
    "    std::memcpy(vector.data(), tensor.data_ptr<float>(), length * sizeof(float));\n",
    "}"
   ]
  },
  {
   "cell_type": "code",
   "execution_count": 6,
   "id": "8964a862-7484-4adf-beeb-d4dce46af179",
   "metadata": {},
   "outputs": [],
   "source": [
    "void tensor_2d_matrix_to_std_vector(const torch::Tensor &tensor, std::vector<float> &matrix, int &rows, int &cols)\n",
    "{\n",
    "    TORCH_CHECK(tensor.is_contiguous(), \"Tensor must be contiguous\");\n",
    "    rows = tensor.size(0);\n",
    "    cols = tensor.size(1);\n",
    "    matrix.resize(rows * cols);\n",
    "    std::memcpy(matrix.data(), tensor.data_ptr<float>(), rows * cols * sizeof(float));\n",
    "}"
   ]
  },
  {
   "cell_type": "code",
   "execution_count": 7,
   "id": "133f32dc-2f38-4f79-9f05-dfe5ef8ff33b",
   "metadata": {},
   "outputs": [],
   "source": [
    "void debug_flatten_matrix(const std::vector<float> &flattened_matrix, int num_cols, const std::string &name = \"\")\n",
    "{\n",
    "    if (!name.empty())\n",
    "    {\n",
    "        std::cout << name << \":\\n\";\n",
    "    }\n",
    "\n",
    "    int num_rows = flattened_matrix.size() / num_cols;\n",
    "\n",
    "    std::cout << \"[\\n\";\n",
    "    for (int i = 0; i < num_rows; ++i)\n",
    "    {\n",
    "        std::cout << \"  [\";\n",
    "        for (int j = 0; j < num_cols; ++j)\n",
    "        {\n",
    "            // std::cout << std::setw(10) << flattened_matrix[i * num_cols + j] << \" \";\n",
    "            std::cout << flattened_matrix[i * num_cols + j];\n",
    "            if (j < num_cols - 1)\n",
    "            {\n",
    "                std::cout << \", \";\n",
    "            }\n",
    "        }\n",
    "        std::cout << \"]\";\n",
    "        if (i < num_rows - 1)\n",
    "        {\n",
    "            std::cout << \",\\n\";\n",
    "        }\n",
    "    }\n",
    "    std::cout << \"\\n]\" << std::endl;\n",
    "    std::cout << \"(size: \" << flattened_matrix.size() << \")\" << std::endl;\n",
    "    std::cout << \"(convert size: \" << num_rows << \", \" << num_cols << \")\" << std::endl;\n",
    "}\n"
   ]
  },
  {
   "cell_type": "code",
   "execution_count": 8,
   "id": "0a9cfefb-aaf2-4fa0-b43b-ee9f1b46d3b2",
   "metadata": {},
   "outputs": [],
   "source": [
    "void debug_vector(const std::vector<float> &vec, const std::string &name = \"\")\n",
    "{\n",
    "    if (!name.empty())\n",
    "    {\n",
    "        std::cout << name << \": \";\n",
    "    }\n",
    "    std::cout << \"[\";\n",
    "    for (size_t i = 0; i < vec.size(); ++i)\n",
    "    {\n",
    "        std::cout << vec[i];\n",
    "        if (i < vec.size() - 1)\n",
    "        {\n",
    "            std::cout << \", \";\n",
    "        }\n",
    "    }\n",
    "    std::cout << \"]\" << std::endl;\n",
    "    std::cout << \"(size: \" << vec.size() << \")\" << std::endl;\n",
    "}"
   ]
  },
  {
   "cell_type": "code",
   "execution_count": 9,
   "id": "6cd0cb23-038d-456b-b262-04844b55e76e",
   "metadata": {},
   "outputs": [
    {
     "name": "stdout",
     "output_type": "stream",
     "text": [
      "[\n",
      "  [0.59971, 0.703899, 0.523357],\n",
      "  [0.998771, 0.163468, 0.31378],\n",
      "  [0.57161, 0.25458, 0.652616]\n",
      "]\n",
      "(size: 9)\n",
      "(convert size: 3, 3)\n",
      "[0.551134, 0.607241, 0.181109]\n",
      "(size: 3)\n"
     ]
    }
   ],
   "source": [
    "std::vector<float> std_vector_matrix;\n",
    "int rows, cols;\n",
    "tensor_2d_matrix_to_std_vector(libtorch_matrix, std_vector_matrix, rows, cols);\n",
    "debug_flatten_matrix(std_vector_matrix, cols);\n",
    "\n",
    "std::vector<float> std_vector_vector;\n",
    "tensor_vector_to_std_vector(libtorch_vector, std_vector_vector);\n",
    "debug_vector(std_vector_vector);"
   ]
  },
  {
   "cell_type": "code",
   "execution_count": 10,
   "id": "4eadc182-9809-441d-a57b-db0bbc78e500",
   "metadata": {},
   "outputs": [],
   "source": [
    "#pragma cling add_include_path(\"/opt/conda/pkgs/mkl-include-2023.2.0-h84fe81f_50496/include\")\n",
    "#pragma cling add_library_path(\"/opt/conda/pkgs/mkl-2023.2.0-h84fe81f_50496/lib\")"
   ]
  },
  {
   "cell_type": "code",
   "execution_count": 11,
   "id": "2728d559-3aa9-4d64-822a-a2fca7cbc230",
   "metadata": {},
   "outputs": [
    {
     "name": "stdout",
     "output_type": "stream",
     "text": [
      "[0.852742, 0.70655, 0.58782]\n",
      "(size: 3)\n"
     ]
    }
   ],
   "source": [
    "#include <mkl.h>\n",
    "std::vector<float> std_vector_result(3); // Need to specify size otherwise will crash\n",
    "cblas_sgemv(CblasRowMajor, CblasNoTrans, rows, cols, 1.0, std_vector_matrix.data(), cols, std_vector_vector.data(), 1, 0.0, std_vector_result.data(), 1);\n",
    "debug_vector(std_vector_result);"
   ]
  },
  {
   "cell_type": "code",
   "execution_count": 1,
   "id": "d0de2040-633b-4a06-8ee5-2a5ab3285197",
   "metadata": {},
   "outputs": [
    {
     "name": "stdout",
     "output_type": "stream",
     "text": [
      "{{ 0.814724,  0.135477,  0.905792},\n",
      " { 0.835009,  0.126987,  0.968868},\n",
      " { 0.913376,  0.221034,  0.632359}}\n",
      "{ 0.308167,  0.09754 ,  0.547221}\n"
     ]
    }
   ],
   "source": [
    "#include <xtensor/xarray.hpp>\n",
    "#include <xtensor/xio.hpp>\n",
    "#include <xtensor/xrandom.hpp>\n",
    "// Create a 3x3 matrix with random float values\n",
    "xt::xarray<float> xtensor_matrix = xt::random::rand<float>({3, 3});\n",
    "\n",
    "// Create a vector of length 3 with random float values\n",
    "xt::xarray<float> xtensor_vector = xt::random::rand<float>({3});\n",
    "\n",
    "std::cout << xtensor_matrix << std::endl;\n",
    "std::cout << xtensor_vector << std::endl;"
   ]
  },
  {
   "cell_type": "code",
   "execution_count": 2,
   "id": "585a3cad-2d77-438a-b4e0-9d9b54ebf663",
   "metadata": {},
   "outputs": [
    {
     "name": "stdout",
     "output_type": "stream",
     "text": [
      "{ 0.759953,  0.799893,  0.649072}\n"
     ]
    }
   ],
   "source": [
    "// BUG: xlinalg.hpp seem conflict with mkl (this was running after reset kernel)\n",
    "#include <cstddef>\n",
    "#include <xtensor-blas/xlinalg.hpp>\n",
    "std::cout << xt::linalg::dot(xtensor_matrix, xtensor_vector) << std::endl;"
   ]
  },
  {
   "cell_type": "code",
   "execution_count": 3,
   "id": "7a34071e-b5fb-48ef-beda-aaa27b842967",
   "metadata": {},
   "outputs": [
    {
     "name": "stdout",
     "output_type": "stream",
     "text": [
      "{{  2.,   4.,   6.},\n",
      " {  8.,  10.,  12.}}\n"
     ]
    }
   ],
   "source": [
    "// https://xtensor.readthedocs.io/en/latest/adaptor.html\n",
    "#include <cstddef>\n",
    "#include <xtensor/xadapt.hpp>\n",
    "\n",
    "std::vector<double> v = {1., 2., 3., 4., 5., 6. };\n",
    "std::vector<std::size_t> shape = { 2, 3 };\n",
    "auto a1 = xt::adapt(v, shape);\n",
    "\n",
    "xt::xarray<double> a2 = {{ 1., 2., 3.},\n",
    "                         { 4., 5., 6.}};\n",
    "\n",
    "xt::xarray<double> res = a1 + a2;\n",
    "std::cout << res << std::endl;"
   ]
  },
  {
   "cell_type": "code",
   "execution_count": null,
   "id": "bb67098e-4514-45b4-a6f2-387a26455b60",
   "metadata": {},
   "outputs": [],
   "source": []
  }
 ],
 "metadata": {
  "kernelspec": {
   "display_name": "C++17",
   "language": "C++17",
   "name": "xcpp17"
  },
  "language_info": {
   "codemirror_mode": "text/x-c++src",
   "file_extension": ".cpp",
   "mimetype": "text/x-c++src",
   "name": "c++",
   "version": "17"
  }
 },
 "nbformat": 4,
 "nbformat_minor": 5
}
